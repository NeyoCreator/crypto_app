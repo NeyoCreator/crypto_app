{
 "cells": [
  {
   "cell_type": "markdown",
   "metadata": {},
   "source": [
    "### __1.READ DATA__"
   ]
  },
  {
   "cell_type": "code",
   "execution_count": 2,
   "metadata": {},
   "outputs": [],
   "source": [
    "import json\n",
    "  \n",
    "f = open('sample.json')\n",
    "data = json.load(f)"
   ]
  },
  {
   "cell_type": "code",
   "execution_count": 3,
   "metadata": {},
   "outputs": [
    {
     "data": {
      "text/plain": [
       "[{'position': 1,\n",
       "  'symbol': 'BTC',\n",
       "  'name': 'Bitcoin',\n",
       "  'icon_url': 'https://cdn.coinranking.com/bOabBYkcX/bitcoin_btc.svg',\n",
       "  'price': 476010.5808890346},\n",
       " {'position': 2,\n",
       "  'symbol': 'ETH',\n",
       "  'name': 'Ethereum',\n",
       "  'icon_url': 'https://cdn.coinranking.com/rk4RKHOuW/eth.svg',\n",
       "  'price': 32758.022223737604},\n",
       " {'position': 3,\n",
       "  'symbol': 'USDT',\n",
       "  'name': 'Tether USD',\n",
       "  'icon_url': 'https://cdn.coinranking.com/mgHqwlCLj/usdt.svg',\n",
       "  'price': 16.205258051549674}]"
      ]
     },
     "execution_count": 3,
     "metadata": {},
     "output_type": "execute_result"
    }
   ],
   "source": [
    "data"
   ]
  },
  {
   "cell_type": "code",
   "execution_count": null,
   "metadata": {},
   "outputs": [],
   "source": []
  }
 ],
 "metadata": {
  "interpreter": {
   "hash": "9e0bb73817fcbff1b3df3e5a86e75a5bc3f4b12c12493b6757082b60b6274f32"
  },
  "kernelspec": {
   "display_name": "Python 3.10.4 64-bit",
   "language": "python",
   "name": "python3"
  },
  "language_info": {
   "codemirror_mode": {
    "name": "ipython",
    "version": 3
   },
   "file_extension": ".py",
   "mimetype": "text/x-python",
   "name": "python",
   "nbconvert_exporter": "python",
   "pygments_lexer": "ipython3",
   "version": "3.10.4"
  },
  "orig_nbformat": 4
 },
 "nbformat": 4,
 "nbformat_minor": 2
}
