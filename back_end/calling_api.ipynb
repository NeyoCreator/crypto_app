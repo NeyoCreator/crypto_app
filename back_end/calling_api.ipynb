{
 "cells": [
  {
   "cell_type": "markdown",
   "metadata": {},
   "source": [
    "#### __1.Get top 3 coins__"
   ]
  },
  {
   "cell_type": "code",
   "execution_count": 2,
   "metadata": {},
   "outputs": [],
   "source": [
    "import http.client\n",
    "import json\n",
    "conn = http.client.HTTPSConnection(\"coinranking1.p.rapidapi.com\")\n",
    "\n",
    "headers = {\n",
    "    'X-RapidAPI-Host': \"coinranking1.p.rapidapi.com\",\n",
    "    'X-RapidAPI-Key': \"2c900475e6msh323d593c0c473f4p1bf21cjsnf8d9d965070d\"\n",
    "    }\n",
    "\n",
    "conn.request(\"GET\", \"/coins?referenceCurrencyUuid=yhjMzLPhuIDl&timePeriod=24h&tiers%5B0%5D=1&orderBy=marketCap&orderDirection=desc&limit=50&offset=0\", headers=headers)\n",
    "\n",
    "res = conn.getresponse()\n",
    "data = res.read()\n",
    "\n",
    "#1.DEFINE COIN RESULT\n",
    "result_data = data.decode(\"utf-8\")\n",
    "result_data = json.loads(result_data)\n",
    "\n",
    "#2.GET TOP 3 RANKED COINS\n",
    "uuid_list = []\n",
    "x = 0 \n",
    "while x < 3 :\n",
    "    uuid_list.append(result_data[\"data\"][\"coins\"][x][\"uuid\"])\n",
    "    x = x +1\n"
   ]
  },
  {
   "cell_type": "markdown",
   "metadata": {},
   "source": [
    "#### __2.Finding Coin__"
   ]
  },
  {
   "cell_type": "code",
   "execution_count": 3,
   "metadata": {},
   "outputs": [],
   "source": [
    "ranked_coins = []\n",
    "x = 0\n",
    "while x < 3 :\n",
    "    #1.GET DATA\n",
    "    conn = http.client.HTTPSConnection(\"coinranking1.p.rapidapi.com\")\n",
    "    headers = {\n",
    "        'X-RapidAPI-Host': \"coinranking1.p.rapidapi.com\",\n",
    "        'X-RapidAPI-Key': \"2c900475e6msh323d593c0c473f4p1bf21cjsnf8d9d965070d\"\n",
    "        }\n",
    "\n",
    "    conn.request(\"GET\", f\"/coin/{uuid_list[x]}?referenceCurrencyUuid={uuid_list[x]}&timePeriod=24h\", headers=headers)\n",
    "    res = conn.getresponse()\n",
    "    data = res.read()\n",
    "\n",
    "    coin_data = data.decode(\"utf-8\")\n",
    "    coin_data = json.loads(coin_data)\n",
    "\n",
    "    #META DATA\n",
    "    symbol = coin_data[\"data\"][\"coin\"][\"symbol\"]\n",
    "    name = coin_data[\"data\"][\"coin\"][\"name\"]\n",
    "    icon_url = coin_data[\"data\"][\"coin\"][\"iconUrl\"]\n",
    "    price = float(result_data['data'][\"coins\"][x][\"price\"]) * (16.16)\n",
    "\n",
    "    ranked_coins.append({\"position\": x+1, \"symbol\":symbol, \"name\":name, \"icon_url\": icon_url,\"price\":price})\n",
    "    x = x +1"
   ]
  },
  {
   "cell_type": "markdown",
   "metadata": {},
   "source": [
    "### __3.WRITING DATABASE__"
   ]
  },
  {
   "cell_type": "code",
   "execution_count": 4,
   "metadata": {},
   "outputs": [],
   "source": [
    "f = open(\"sample.json\", \"w\")\n",
    "json.dump(ranked_coins, f)\n",
    "f.close()"
   ]
  }
 ],
 "metadata": {
  "interpreter": {
   "hash": "9e0bb73817fcbff1b3df3e5a86e75a5bc3f4b12c12493b6757082b60b6274f32"
  },
  "kernelspec": {
   "display_name": "Python 3.10.4 64-bit",
   "language": "python",
   "name": "python3"
  },
  "language_info": {
   "codemirror_mode": {
    "name": "ipython",
    "version": 3
   },
   "file_extension": ".py",
   "mimetype": "text/x-python",
   "name": "python",
   "nbconvert_exporter": "python",
   "pygments_lexer": "ipython3",
   "version": "3.10.4"
  },
  "orig_nbformat": 4
 },
 "nbformat": 4,
 "nbformat_minor": 2
}
